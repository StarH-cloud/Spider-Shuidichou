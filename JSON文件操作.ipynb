{
 "cells": [
  {
   "cell_type": "code",
   "id": "initial_id",
   "metadata": {
    "collapsed": true,
    "jupyter": {
     "is_executing": true
    }
   },
   "source": [
    "import json\n",
    "import pandas as pd\n",
    "\n",
    "# 此函数用于读取指定路径的 JSON 文件\n",
    "def read_json_file(file_path):\n",
    "    with open(file_path, 'r') as file:\n",
    "        data = json.load(file)\n",
    "    return data #返回:dict: 解析后的 JSON 数据"
   ],
   "outputs": [],
   "execution_count": null
  },
  {
   "metadata": {
    "jupyter": {
     "is_executing": true
    }
   },
   "cell_type": "code",
   "source": [
    "# 打开第一个文件\n",
    "file_path = 'D:\\\\Pycharm\\\\pythonProject1\\\\Test1\\\\test1.json'\n",
    "mydict = read_json_file(file_path)\n",
    "df = pd.DataFrame(mydict['data']['list'])\n",
    "# 循环合并起来\n",
    "for i in range(1,3):\n",
    "    file_path = 'D:\\\\Pycharm\\\\pythonProject1\\\\Test1\\\\test{}.json'.format(i)\n",
    "    mydict1 = read_json_file(file_path)\n",
    "    df2 = pd.DataFrame(mydict1['data']['list'])\n",
    "    df = pd.concat([df, df2], ignore_index=True)\n",
    "# print(df)\n",
    "print(type(df))"
   ],
   "id": "732815a335846fc6",
   "outputs": [],
   "execution_count": null
  },
  {
   "metadata": {
    "ExecuteTime": {
     "end_time": "2024-10-13T02:53:03.575262Z",
     "start_time": "2024-10-13T02:53:03.566702Z"
    }
   },
   "cell_type": "code",
   "outputs": [
    {
     "data": {
      "text/plain": [
       "dict_keys(['code', 'msg', 'data'])"
      ]
     },
     "execution_count": 96,
     "metadata": {},
     "output_type": "execute_result"
    }
   ],
   "execution_count": 96,
   "source": [
    "mydict.keys()\n",
    "mydict['data'].keys()\n",
    "len(mydict['data']['list'])\n",
    "mydict['data']['list'][0]\n",
    "# print(type(parsed_data))"
   ],
   "id": "139efa7cae768bac"
  }
 ],
 "metadata": {
  "kernelspec": {
   "display_name": "Python 3",
   "language": "python",
   "name": "python3"
  },
  "language_info": {
   "codemirror_mode": {
    "name": "ipython",
    "version": 2
   },
   "file_extension": ".py",
   "mimetype": "text/x-python",
   "name": "python",
   "nbconvert_exporter": "python",
   "pygments_lexer": "ipython2",
   "version": "2.7.6"
  }
 },
 "nbformat": 4,
 "nbformat_minor": 5
}
