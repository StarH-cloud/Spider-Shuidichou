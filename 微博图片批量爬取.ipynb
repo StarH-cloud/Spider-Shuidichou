{
 "cells": [
  {
   "metadata": {},
   "cell_type": "markdown",
   "source": "# 爬取一张图片，需要使用夸克浏览器",
   "id": "ed455ee8e5bc72b4"
  },
  {
   "metadata": {
    "ExecuteTime": {
     "end_time": "2025-04-05T14:53:08.250687Z",
     "start_time": "2025-04-05T14:53:06.184245Z"
    }
   },
   "cell_type": "code",
   "source": [
    "import requests\n",
    "import pymongo\n",
    "import pandas as pd\n",
    "import json"
   ],
   "id": "fab5941a3ef61aab",
   "outputs": [],
   "execution_count": 9
  },
  {
   "cell_type": "code",
   "id": "initial_id",
   "metadata": {
    "collapsed": true,
    "ExecuteTime": {
     "end_time": "2025-04-05T14:32:14.078517Z",
     "start_time": "2025-04-05T14:32:10.824213Z"
    }
   },
   "source": [
    "import requests\n",
    "\n",
    "def download_image(url, file_path):\n",
    "    # 夸克浏览器的 User - Agent\n",
    "    headers = {\n",
    "        'User-Agent': 'Mozilla/5.0 (Windows NT 10.0; Win64; x64) AppleWebKit/537.36 (KHTML, like Gecko)  QuarkPC/2.4.0.281',\n",
    "        'Referer':'https://weibo.com/'\n",
    "    }\n",
    "    try:\n",
    "        # 发送 GET 请求，添加请求头\n",
    "        response = requests.get(url, stream=True, headers=headers)\n",
    "        # 检查响应状态码\n",
    "        status_code = response.status_code\n",
    "        print(status_code)\n",
    "\n",
    "        # 以二进制写入模式打开文件\n",
    "        with open(file_path, 'wb') as file:\n",
    "            file.write(response.content)\n",
    "        print(f\"图片已成功下载到 {file_path}\")\n",
    "    except requests.exceptions.HTTPError as http_err:\n",
    "        print(f\"HTTP 错误发生: {http_err}\")\n",
    "    except requests.exceptions.RequestException as req_err:\n",
    "        print(f\"请求错误发生: {req_err}\")\n",
    "    except Exception as err:\n",
    "        print(f\"发生未知错误: {err}\")\n",
    "\n",
    "\n",
    "if __name__ == \"__main__\":\n",
    "    # 替换为你要下载的图片 URL\n",
    "    image_url = 'https://wx4.sinaimg.cn/large/007q0mqYly1hznj4hmcdvj34mo62rnpn.jpg'\n",
    "    # 替换为你想要保存图片名称\n",
    "    save_path = '5.jpg'\n",
    "    download_image(image_url, save_path)\n",
    "\n"
   ],
   "outputs": [
    {
     "name": "stdout",
     "output_type": "stream",
     "text": [
      "200\n",
      "图片已成功下载到 5.jpg\n"
     ]
    }
   ],
   "execution_count": 5
  },
  {
   "metadata": {},
   "cell_type": "markdown",
   "source": "# 需要更改参数获取所有图片",
   "id": "4ac7bc9ff1d213f2"
  },
  {
   "metadata": {},
   "cell_type": "code",
   "outputs": [],
   "execution_count": null,
   "source": [
    "# https://wx1.sinaimg.cn/large/\n",
    "# https://wx2.sinaimg.cn/large/\n",
    "# https://wx3.sinaimg.cn/large/\n",
    "# https://wx4.sinaimg.cn/large/\n",
    "s1 = 'https://wx1.sinaimg.cn/large/'\n",
    "s2 = 'https://wx2.sinaimg.cn/large/'\n",
    "s3 = 'https://wx3.sinaimg.cn/large/'\n",
    "s4 = 'https://wx4.sinaimg.cn/large/'\n",
    "pid = ''    # 这个是获取在JSON文件中的数据\n",
    "url1 = s1 + pid\n",
    "url2 = s2 + pid\n",
    "url3 = s3 + pid\n",
    "url4 = s4 + pid\n",
    "#测试发现和1234无关\n",
    "\n",
    "# 写入数据库\n",
    "content = json.loads(response.text)\n",
    "# todo 写入到数据库的集合中\n",
    "collection.insert_many(content['data'])\n",
    "\n"
   ],
   "id": "7f3bd5fb96f58171"
  },
  {
   "metadata": {},
   "cell_type": "markdown",
   "source": "# 获取所有",
   "id": "440d6958eff72832"
  },
  {
   "metadata": {
    "ExecuteTime": {
     "end_time": "2025-04-05T14:52:53.739829Z",
     "start_time": "2025-04-05T14:52:53.715143Z"
    }
   },
   "cell_type": "code",
   "source": [
    "# 函数：打开数据库的集合\n",
    "def collection_open(client_name,collection_name):\n",
    "    '''\n",
    "    函数用来打开数据库的指定集合\n",
    "    :param client_name: \n",
    "    :param collection_name: \n",
    "    :return: collection\n",
    "    '''\n",
    "    client = pymongo.MongoClient('localhost', 27017)\n",
    "    db = client[client_name]\n",
    "    collection = db[collection_name]\n",
    "    return collection"
   ],
   "id": "2b6d5477e16986f8",
   "outputs": [],
   "execution_count": 7
  },
  {
   "metadata": {},
   "cell_type": "code",
   "outputs": [],
   "execution_count": null,
   "source": [
    "# TODO 1 筹款案例爬取\n",
    "# 函数：筹款案例数据爬取\n",
    "def data_spyder(URLs, headers):\n",
    "\n",
    "    for url in URLs:\n",
    "        # todo 参数设置\n",
    "        sinceid = 0\n",
    "        HasNext = True\n",
    "\n",
    "        while HasNext:\n",
    "            data = {\n",
    "                'uid': 6797200800,\n",
    "                'sinceid':sinceid }\n",
    "            response = requests.get(url, data=data, headers=headers)\n",
    "            content = json.loads(response.text)\n",
    "            # todo 写入到数据库的集合中\n",
    "            collection.insert_many(content['data']['list'])\n",
    "            # 输出显示\n",
    "            # print('-' * 25 + f\"第{page}页\" + '-' * 25)\n",
    "            # todo 更新参数\n",
    "            sinceid = content['data']['since_id']\n",
    "            HasNext = content['ok']\n",
    "    print(\"爬取结束\")\n",
    "            "
   ],
   "id": "7f268b1f3c8f62c"
  },
  {
   "metadata": {
    "ExecuteTime": {
     "end_time": "2025-04-05T15:16:32.574487Z",
     "start_time": "2025-04-05T15:16:32.084119Z"
    }
   },
   "cell_type": "code",
   "source": [
    "headers = {\n",
    "    'User-Agent': 'Mozilla/5.0 (Windows NT 10.0; Win64; x64) AppleWebKit/537.36 (KHTML, like Gecko)  QuarkPC/2.4.0.281',\n",
    "    'Accept': 'application/json'\n",
    "    }\n",
    "\n",
    "url = 'https://weibo.com/ajax/profile/getImageWall?uid=6797200800&sinceid=0&has_album=true'\n",
    "\n",
    "sinceid = 0\n",
    "data = {\n",
    "        'uid': 6797200800,\n",
    "        'sinceid':sinceid\n",
    "}\n",
    "response = requests.get(url, data=data, headers=headers)\n",
    "json_data = response.json()\n",
    "# print(response.text)\n",
    "# print(response.content)\n",
    "print(json_data)\n",
    "# content = json.loads(response.text)\n",
    "# todo 写入到数据库的集合中\n",
    "# collection = collection_open(client_name='weibo',collection_name='test1')\n",
    "# collection.insert_many(content['data']['list'])"
   ],
   "id": "f83710484af57b04",
   "outputs": [
    {
     "name": "stdout",
     "output_type": "stream",
     "text": [
      "{'ok': -100, 'url': 'https://weibo.com/login.php'}\n"
     ]
    }
   ],
   "execution_count": 40
  },
  {
   "metadata": {
    "ExecuteTime": {
     "end_time": "2025-04-06T01:28:03.055100Z",
     "start_time": "2025-04-06T01:28:02.534542Z"
    }
   },
   "cell_type": "code",
   "outputs": [
    {
     "name": "stdout",
     "output_type": "stream",
     "text": [
      "<!DOCTYPE html><html lang=zh-cn><head><meta charset=utf-8><link rel=dns-prefetch href=//h5.sinaimg.cn><meta name=viewport content=\"width=device-width,initial-scale=1,user-scalable=no,viewport-fit=cover\"><meta http-equiv=X-UA-Compatible content=\"IE=edge\"><meta http-equiv=Content-Security-Policy content=upgrade-insecure-requests><link rel=icon href=https://weibo.com/favicon.ico><title>微博</title><script>if (window.location.protocol !== 'https:') {\n",
      "        window.location.href = window.location.href.replace('http:', 'https:');\n",
      "      }</script><link href=//h5.sinaimg.cn/m/weibo-pro/css/chunk-03eb4955.4b78b17b.css rel=prefetch><link href=//h5.sinaimg.cn/m/weibo-pro/css/chunk-0404a337.d9eea5c4.css rel=prefetch><link href=//h5.sinaimg.cn/m/weibo-pro/css/chunk-05ac3f21.cc383c83.css rel=prefetch><link href=//h5.sinaimg.cn/m/weibo-pro/css/chunk-073e640a.2ec30aad.css rel=prefetch><link href=//h5.sinaimg.cn/m/weibo-pro/css/chunk-08c9d173.2c8e2b71.css rel=prefetch><link href=//h5.sinaimg.cn/m/weibo-pro/css/chunk-0a48be92.ed60a9c7.css rel=prefetch><link href=//h5.sinaimg.cn/m/weibo-pro/css/chunk-0c859bf0.6f003345.css rel=prefetch><link href=//h5.sinaimg.cn/m/weibo-pro/css/chunk-0d8aa756.2e1914b9.css rel=prefetch><link href=//h5.sinaimg.cn/m/weibo-pro/css/chunk-0f931578.db648714.css rel=prefetch><link href=//h5.sinaimg.cn/m/weibo-pro/css/chunk-10338cac.70f42562.css rel=prefetch><link href=//h5.sinaimg.cn/m/weibo-pro/css/chunk-19528590.72eba411.css rel=prefetch><link href=//h5.sinaimg.cn/m/weibo-pro/css/chunk-2455c200.2008c57b.css rel=prefetch><link href=//h5.sinaimg.cn/m/weibo-pro/css/chunk-2b0ae722.c03593a2.css rel=prefetch><link href=//h5.sinaimg.cn/m/weibo-pro/css/chunk-2b322c12.68689753.css rel=prefetch><link href=//h5.sinaimg.cn/m/weibo-pro/css/chunk-2e6c6949.21d7639a.css rel=prefetch><link href=//h5.sinaimg.cn/m/weibo-pro/css/chunk-2e7f4378.e631a9ef.css rel=prefetch><link href=//h5.sinaimg.cn/m/weibo-pro/css/chunk-380af969.200c7a55.css rel=prefetch><link href=//h5.sinaimg.cn/m/weibo-pro/css/chunk-38d17e06.04f74d97.css rel=prefetch><link href=//h5.sinaimg.cn/m/weibo-pro/css/chunk-3a42b4f1.e8cfbb90.css rel=prefetch><link href=//h5.sinaimg.cn/m/weibo-pro/css/chunk-40f6157c.b689bade.css rel=prefetch><link href=//h5.sinaimg.cn/m/weibo-pro/css/chunk-4581f323.cdeafe14.css rel=prefetch><link href=//h5.sinaimg.cn/m/weibo-pro/css/chunk-45cd33c0.49646b81.css rel=prefetch><link href=//h5.sinaimg.cn/m/weibo-pro/css/chunk-460d280d.003ff275.css rel=prefetch><link href=//h5.sinaimg.cn/m/weibo-pro/css/chunk-4d2e1256.077e95b4.css rel=prefetch><link href=//h5.sinaimg.cn/m/weibo-pro/css/chunk-547af5b8.803f6df5.css rel=prefetch><link href=//h5.sinaimg.cn/m/weibo-pro/css/chunk-60593be8.694d2d79.css rel=prefetch><link href=//h5.sinaimg.cn/m/weibo-pro/css/chunk-655938aa.65727a04.css rel=prefetch><link href=//h5.sinaimg.cn/m/weibo-pro/css/chunk-793e7e48.da4619ac.css rel=prefetch><link href=//h5.sinaimg.cn/m/weibo-pro/css/chunk-79a50b58.cd3a4b2e.css rel=prefetch><link href=//h5.sinaimg.cn/m/weibo-pro/css/chunk-7eabf768.4995af35.css rel=prefetch><link href=//h5.sinaimg.cn/m/weibo-pro/css/chunk-ba1b3b94.d2252512.css rel=prefetch><link href=//h5.sinaimg.cn/m/weibo-pro/css/chunk-d2bc8532.1772aedf.css rel=prefetch><link href=//h5.sinaimg.cn/m/weibo-pro/css/chunk-df6a36a0.4e5e8242.css rel=prefetch><link href=//h5.sinaimg.cn/m/weibo-pro/css/chunk-e117c69e.3e3f0add.css rel=prefetch><link href=//h5.sinaimg.cn/m/weibo-pro/css/chunk-f80a3a62.81706f3f.css rel=prefetch><link href=//h5.sinaimg.cn/m/weibo-pro/js/chunk-03eb4955.a92e5033.js rel=prefetch><link href=//h5.sinaimg.cn/m/weibo-pro/js/chunk-0404a337.97144f98.js rel=prefetch><link href=//h5.sinaimg.cn/m/weibo-pro/js/chunk-05ac3f21.d592f696.js rel=prefetch><link href=//h5.sinaimg.cn/m/weibo-pro/js/chunk-073e640a.857e19db.js rel=prefetch><link href=//h5.sinaimg.cn/m/weibo-pro/js/chunk-08c9d173.9bf879ff.js rel=prefetch><link href=//h5.sinaimg.cn/m/weibo-pro/js/chunk-0a48be92.4eb6810b.js rel=prefetch><link href=//h5.sinaimg.cn/m/weibo-pro/js/chunk-0c859bf0.fd4be1ca.js rel=prefetch><link href=//h5.sinaimg.cn/m/weibo-pro/js/chunk-0d8aa756.05eb6d02.js rel=prefetch><link href=//h5.sinaimg.cn/m/weibo-pro/js/chunk-0f931578.d904bebe.js rel=prefetch><link href=//h5.sinaimg.cn/m/weibo-pro/js/chunk-10338cac.384be63a.js rel=prefetch><link href=//h5.sinaimg.cn/m/weibo-pro/js/chunk-19528590.577be3c0.js rel=prefetch><link href=//h5.sinaimg.cn/m/weibo-pro/js/chunk-2455c200.65fbf343.js rel=prefetch><link href=//h5.sinaimg.cn/m/weibo-pro/js/chunk-2b0ae722.27607203.js rel=prefetch><link href=//h5.sinaimg.cn/m/weibo-pro/js/chunk-2b322c12.e733373d.js rel=prefetch><link href=//h5.sinaimg.cn/m/weibo-pro/js/chunk-2d0e5b18.880c0ec7.js rel=prefetch><link href=//h5.sinaimg.cn/m/weibo-pro/js/chunk-2e6c6949.787526a5.js rel=prefetch><link href=//h5.sinaimg.cn/m/weibo-pro/js/chunk-2e7f4378.e122b985.js rel=prefetch><link href=//h5.sinaimg.cn/m/weibo-pro/js/chunk-380af969.27b84e3a.js rel=prefetch><link href=//h5.sinaimg.cn/m/weibo-pro/js/chunk-38d17e06.f3de1c94.js rel=prefetch><link href=//h5.sinaimg.cn/m/weibo-pro/js/chunk-3a42b4f1.9721a4e7.js rel=prefetch><link href=//h5.sinaimg.cn/m/weibo-pro/js/chunk-40f6157c.4017c0c4.js rel=prefetch><link href=//h5.sinaimg.cn/m/weibo-pro/js/chunk-4581f323.00d34b76.js rel=prefetch><link href=//h5.sinaimg.cn/m/weibo-pro/js/chunk-45cd33c0.c4d37b9a.js rel=prefetch><link href=//h5.sinaimg.cn/m/weibo-pro/js/chunk-460d280d.565bd253.js rel=prefetch><link href=//h5.sinaimg.cn/m/weibo-pro/js/chunk-4d2e1256.77cfd98c.js rel=prefetch><link href=//h5.sinaimg.cn/m/weibo-pro/js/chunk-547af5b8.2c61afb7.js rel=prefetch><link href=//h5.sinaimg.cn/m/weibo-pro/js/chunk-60593be8.053ad34b.js rel=prefetch><link href=//h5.sinaimg.cn/m/weibo-pro/js/chunk-655938aa.8d4168df.js rel=prefetch><link href=//h5.sinaimg.cn/m/weibo-pro/js/chunk-793e7e48.2dfcc7aa.js rel=prefetch><link href=//h5.sinaimg.cn/m/weibo-pro/js/chunk-79a50b58.df5d4368.js rel=prefetch><link href=//h5.sinaimg.cn/m/weibo-pro/js/chunk-7eabf768.f0fde78f.js rel=prefetch><link href=//h5.sinaimg.cn/m/weibo-pro/js/chunk-ba1b3b94.99c77660.js rel=prefetch><link href=//h5.sinaimg.cn/m/weibo-pro/js/chunk-d2bc8532.a8895f8c.js rel=prefetch><link href=//h5.sinaimg.cn/m/weibo-pro/js/chunk-df6a36a0.d4a7cad8.js rel=prefetch><link href=//h5.sinaimg.cn/m/weibo-pro/js/chunk-e117c69e.b5497d7f.js rel=prefetch><link href=//h5.sinaimg.cn/m/weibo-pro/js/chunk-f80a3a62.eab3406b.js rel=prefetch><link href=//h5.sinaimg.cn/m/weibo-pro/css/app.5fc6fe95.css rel=preload as=style><link href=//h5.sinaimg.cn/m/weibo-pro/css/vendors.a30499bf.css rel=preload as=style><link href=//h5.sinaimg.cn/m/weibo-pro/css/wooui.c60b891d.css rel=preload as=style><link href=//h5.sinaimg.cn/m/weibo-pro/js/3rdparty.6bbf8c25.js rel=preload as=script><link href=//h5.sinaimg.cn/m/weibo-pro/js/app.492edaea.js rel=preload as=script><link href=//h5.sinaimg.cn/m/weibo-pro/js/echarts.c40f320b.js rel=preload as=script><link href=//h5.sinaimg.cn/m/weibo-pro/js/vendors.cf0b7a89.js rel=preload as=script><link href=//h5.sinaimg.cn/m/weibo-pro/js/wooui.c4940375.js rel=preload as=script><link href=//h5.sinaimg.cn/m/weibo-pro/css/wooui.c60b891d.css rel=stylesheet><link href=//h5.sinaimg.cn/m/weibo-pro/css/vendors.a30499bf.css rel=stylesheet><link href=//h5.sinaimg.cn/m/weibo-pro/css/app.5fc6fe95.css rel=stylesheet></head><body><script>window.$VERSION = {\n",
      "        CLIENT: 'v2.47.48',\n",
      "        SERVER: 'v2025.04.02.1'\n",
      "      };\n",
      "      \n",
      "      try{window.$CONFIG = {\"serverTime\":1743902883796,\"showAriaEntrance\":true,\"enableAria\":true,\"enablePopLogin\":false,\"user\":{\"id\":7910419329,\"idstr\":\"7910419329\",\"pc_new\":0,\"screen_name\":\"娜维娅呀呀\",\"profile_image_url\":\"https://tvax2.sinaimg.cn/crop.0.0.736.736.50/008Dljqxly8hqqzps0iz8j30kg0kgt9m.jpg?KID=imgbed,tva&Expires=1743913683&ssig=wj2BSVwbWR\",\"profile_url\":\"/u/7910419329\",\"verified\":false,\"verified_type\":-1,\"domain\":\"\",\"weihao\":\"\",\"status_total_counter\":{\"total_cnt_format\":4,\"comment_cnt\":\"1\",\"repost_cnt\":\"0\",\"like_cnt\":\"3\",\"total_cnt\":\"4\"},\"avatar_large\":\"https://tvax2.sinaimg.cn/crop.0.0.736.736.180/008Dljqxly8hqqzps0iz8j30kg0kgt9m.jpg?KID=imgbed,tva&Expires=1743913683&ssig=IkWqpPNl9H\",\"avatar_hd\":\"https://tvax2.sinaimg.cn/crop.0.0.736.736.1024/008Dljqxly8hqqzps0iz8j30kg0kgt9m.jpg?KID=imgbed,tva&Expires=1743913683&ssig=4O8SP4BuVb\",\"follow_me\":false,\"following\":false,\"mbrank\":0,\"mbtype\":0,\"v_plus\":0,\"user_ability\":2097152,\"planet_video\":true,\"description\":\"\",\"location\":\"其他\",\"gender\":\"m\",\"followers_count\":5,\"followers_count_str\":\"5\",\"friends_count\":338,\"statuses_count\":17,\"url\":\"\",\"svip\":0,\"vvip\":0,\"cover_image_phone\":\"https://ww1.sinaimg.cn/crop.0.0.640.640.640/549d0121tw1egm1kjly3jj20hs0hsq4f.jpg\",\"type\":1,\"user_limit\":0,\"icon_list\":[],\"watermark\":{\"markpos\":1,\"nick\":\"@娜维娅呀呀\"}},\"uid\":7910419329,\"apmSampleRate\":0.01,\"isNormal\":true,\"flags\":{\"open_video_layer\":1,\"can_create_vote\":false,\"get_unfollow_message\":false,\"comment_approval\":false,\"content_auth\":-1,\"can_modify_visible\":false,\"can_welcome_layer\":1,\"mcomment_bubble\":0,\"enable_new_viewer\":false,\"back_v6\":0,\"broadcast\":true,\"text_extend\":false,\"text_optima\":false,\"pic_text\":false,\"date\":1743902883796,\"olympic\":{\"enable\":false,\"icon\":false},\"idea\":false,\"expire\":false,\"pc_next\":false,\"PC_grey\":false,\"pc_video_rt\":false,\"statement\":{\"mblog_statement_title\":\"选择内容声明\",\"mblog_statement_tips\":[\"1. 如发布内容涉及国内外时事、公共政策、社会事件等领域，需在发布博文中标注内容来源：\",\"（1）如属于引用他人所发布内容的，需在博文中标注信息来源。\",\"（2）如属于自行拍摄的图片、视频内容，需在博文中标注拍摄时间、地点等相关信息。\",\"（3）如引用旧闻旧事，需在博文中标注事件发生的时间、地点等信息。\",\"2. 如发布使用AI技术生成的图片、视频，需选择“内容由AI生成”。\",\"3. 如发布含有虚构情节、剧情演绎内容，需选择“内容为虚构演绎”。\"],\"mblog_statement_list\":[{\"type\":0,\"composer_show\":\"\",\"name\":\"无\"},{\"type\":1,\"composer_show\":\"AI生成\",\"name\":\"内容由AI生成\"},{\"type\":2,\"composer_show\":\"虚构演绎\",\"name\":\"内容为虚构演绎\"}]},\"settings\":{\"message\":{\"at_me\":3,\"comment\":3,\"in_like\":2,\"groupchat_notify_receive\":2,\"chat_group_notify\":2}},\"audio_auth\":0},\"loginHeader\":{\"poster\":\"https://a.sinaimg.cn/mintra/pic/2112130400/18weibo_login.png\",\"src\":\"https://a.sinaimg.cn/mintra/pic/2112130543/weibo_login.mp4\"}};}catch(e){window.$CONFIG = {};}\n",
      "      \n",
      "      const s = document.createElement('script');\n",
      "      s.src = 'https://i.sso.sina.com.cn/js/qrcode_login_v2.js';\n",
      "      document.body.appendChild(s);</script><div id=app></div><script defer src=https://static.geetest.com/v4/gt4.js></script><script>try {\n",
      "        if (window.$CONFIG.enableAria) {\n",
      "          const s = document.createElement('script');\n",
      "          s.defer = true;\n",
      "          s.src = '//a.sinaimg.cn/mintra/pic/2201111119/wza/aria.js?appid=dc65fe7d7d2aaf372b1ac9945ffbd093';\n",
      "          document.body.appendChild(s);\n",
      "        }\n",
      "      } catch (e) {}\n",
      "      try {\n",
      "        const s = document.createElement('script');\n",
      "        s.defer = true;\n",
      "        s.src = '//a.sinaimg.cn/mintra/pic/2406250331/48po.js';\n",
      "        document.body.appendChild(s);\n",
      "      } catch (e) {}</script><script>if (false) {\n",
      "        try {\n",
      "          var style = document.createElement('style');\n",
      "          style.innerHTML =\n",
      "            '.grayTheme {-webkit-filter: grayscale(100%);-moz-filter: grayscale(100%);-ms-filter: grayscale(100%);-o-filter: grayscale(100%);filter: grayscale(100%);filter: progid:DXImageTransform.Microsoft.BasicImage(grayscale=1);filter: gray;}';\n",
      "          document.head.appendChild(style);\n",
      "        } catch (e) {}\n",
      "      }</script><script src=//h5.sinaimg.cn/m/weibo-pro/js/3rdparty.6bbf8c25.js></script><script src=//h5.sinaimg.cn/m/weibo-pro/js/echarts.c40f320b.js></script><script src=//h5.sinaimg.cn/m/weibo-pro/js/wooui.c4940375.js></script><script src=//h5.sinaimg.cn/m/weibo-pro/js/vendors.cf0b7a89.js></script><script src=//h5.sinaimg.cn/m/weibo-pro/js/app.492edaea.js></script></body></html>\n",
      "响应不是有效的 JSON 格式\n"
     ]
    }
   ],
   "execution_count": 50,
   "source": [
    "import requests\n",
    "\n",
    "url = \"https://weibo.com/6797200800?tabtype=album\"\n",
    "headers = {\n",
    "    'User-Agent': 'Mozilla/5.0 (Windows NT 10.0; Win64; x64) AppleWebKit/537.36 (KHTML, like Gecko)  QuarkPC/2.4.0.281',\n",
    "    # 微博可能还会校验其他请求头字段，这里仅为示例，实际情况可能需要进一步完善\n",
    "    'Accept': 'application/json',\n",
    "    'Cookie':'SCF=AnYVBthfHPQV4w4DuCqlndDBPSjVxrBbgORXmFtuuYesqGQXKusRtlYbBzt9ERi1COV9qmNPcaq8QS8YLRx399U.; SUB=_2A25K6n0wDeRhGeFH6lIV8SfPyTWIHXVphvD4rDV8PUNbmtAYLUvVkW9NeBYKqgBvvzdvOsLSWT_0RrpMDjk93V4L; SUBP=0033WrSXqPxfM725Ws9jqgMF55529P9D9WF_GMFhB5CCMjRPX_0l537a5JpX5KzhUgL.FoM4eK5XeK.0eo.2dJLoIEXLxK-LBKnL1-eLxKMLB.zLBoBLxK-LBKnL1h-LxK-L1K2L1h5LxK-L1K2L1h5t; ALF=02_1746246240; XSRF-TOKEN=3CGgGaG0iEhLhrGg-nDI-MXA; _s_tentry=weibo.com; Apache=6616104751734.95.1743851045701; SINAGLOBAL=6616104751734.95.1743851045701; ULV=1743851045706:1:1:1:6616104751734.95.1743851045701:; WBPSESS=_BBCykMpZaWW0cQ_CA8lm8RSdPlfq80LzIbc__o42fWxnqookV40nbmi5vy5cBmpyk13m6hVcu-oa9IBe6e4nfBKndqBeTWsgLG0PwrBAhNZEe2llAzBrLen0pXGmWFymg_aTamOdKZC8VpN8rb3ZQ=='\n",
    "}\n",
    "\n",
    "try:\n",
    "    response = requests.get(url, headers=headers)\n",
    "    if response.status_code == 200:\n",
    "        try:\n",
    "            print(response.text)\n",
    "            json_data = json.loads(response)\n",
    "            print(json_data)\n",
    "        except ValueError:\n",
    "            print(\"响应不是有效的 JSON 格式\")\n",
    "    else:\n",
    "        print(f\"请求失败，状态码: {response.status_code}\")\n",
    "except requests.RequestException as e:\n",
    "    print(f\"请求发生错误: {e}\")\n"
   ],
   "id": "e2f9a6299b4bc11"
  },
  {
   "metadata": {
    "ExecuteTime": {
     "end_time": "2025-04-06T01:54:44.525367Z",
     "start_time": "2025-04-06T01:54:44.511704Z"
    }
   },
   "cell_type": "code",
   "source": "a = '{\"data\":{\"since_id\":\"5148749763575862_5148511554503599|1034:5148511189270575_20250327_-1\",\"list\":[{\"pid\":\"007q0mqYly1hzvnhnri1ij30u01hc4qp\",\"mid\":\"5148859917143876\",\"is_paid\":false,\"timeline_month\":\"\",\"timeline_year\":\"\",\"object_id\":\"1042018:6f30f747c2fc3c8162f6c75e9b3e20ff\",\"type\":\"pic\"},{\"pid\":\"007q0mqYly1hzvm87jb1uj32mo1r4b2b\",\"mid\":\"5148850193433151\",\"is_paid\":false,\"timeline_month\":\"\",\"timeline_year\":\"\",\"object_id\":\"1042018:f16b88782fa38b03989510fb5737d125\",\"type\":\"pic\"},{\"pid\":\"007q0mqYly1hzvm8aeahdj34802tcb2h\",\"mid\":\"5148850193433151\",\"is_paid\":false,\"timeline_month\":\"\",\"timeline_year\":\"\",\"object_id\":\"1042018:19bc86f48baa942b86f35a145971c05e\",\"type\":\"pic\"},{\"pid\":\"007q0mqYly1hzvm90gthwj34802dcu0y\",\"mid\":\"5148850193433151\",\"is_paid\":false,\"timeline_month\":\"\",\"timeline_year\":\"\",\"object_id\":\"1042018:6562da69028c5f450cdefc195c335718\",\"type\":\"pic\"},{\"pid\":\"007q0mqYly1hzvm8dfjsfj34802dc1l4\",\"mid\":\"5148850193433151\",\"is_paid\":false,\"timeline_month\":\"\",\"timeline_year\":\"\",\"object_id\":\"1042018:1f31ecccd20c27ea6a3c62da58ee3e29\",\"type\":\"pic\"},{\"pid\":\"007q0mqYly1hzvm8q9rn2j34802dche2\",\"mid\":\"5148850193433151\",\"is_paid\":false,\"timeline_month\":\"\",\"timeline_year\":\"\",\"object_id\":\"1042018:c76b8c8a0c8554e9109a24679b94b260\",\"type\":\"pic\"},{\"pid\":\"007q0mqYly1hzvm85qzw0j34802dc1l4\",\"mid\":\"5148850193433151\",\"is_paid\":false,\"timeline_month\":\"\",\"timeline_year\":\"\",\"object_id\":\"1042018:a08a2f9aa0e38e5ec5ef9737c3506362\",\"type\":\"pic\"},{\"pid\":\"007q0mqYly1hzvm8ylienj32tc4804qq\",\"mid\":\"5148850193433151\",\"is_paid\":false,\"timeline_month\":\"\",\"timeline_year\":\"\",\"object_id\":\"1042018:cb2d64da675709620829116c49a10308\",\"type\":\"pic\"},{\"pid\":\"007q0mqYly1hzvm8woqyej32tc480e8a\",\"mid\":\"5148850193433151\",\"is_paid\":false,\"timeline_month\":\"\",\"timeline_year\":\"\",\"object_id\":\"1042018:a51971b91aaa92ef69288af7e02c189e\",\"type\":\"pic\"},{\"pid\":\"007q0mqYly1hzvm8h1200j32tc480qvd\",\"mid\":\"5148850193433151\",\"is_paid\":false,\"timeline_month\":\"\",\"timeline_year\":\"\",\"object_id\":\"1042018:5d27a096c15b9e8770352af4420a8f8a\",\"type\":\"pic\"},{\"pid\":\"007q0mqYly1hzvewwhyh4j30u01hcatg\",\"mid\":\"5148785639165890\",\"is_paid\":false,\"timeline_month\":\"\",\"timeline_year\":\"\",\"object_id\":\"1042018:e5c4ec6042486893979fe8e31ebd6f2d\",\"type\":\"pic\"},{\"pid\":\"007q0mqYly1hzvbflw97xj30ws17ogwu\",\"mid\":\"5148755482643341\",\"is_paid\":false,\"timeline_month\":\"\",\"timeline_year\":\"\",\"object_id\":\"1042018:adc791eed7bdff1708b9d1b3330ee19f\",\"type\":\"livephoto\",\"video\":\"https://video.weibo.com/media/play?livephoto=https%3A%2F%2Fus.sinaimg.cn%2F003eJe9Njx08mZTMRwbB0f0f0100887v0k01.mov\"},{\"pid\":\"007q0mqYly1hzvbfkwg10j30ws17ok4g\",\"mid\":\"5148755482643341\",\"is_paid\":false,\"timeline_month\":\"\",\"timeline_year\":\"\",\"object_id\":\"1042018:f2d9b00e899174b77972388901a9adfb\",\"type\":\"livephoto\",\"video\":\"https://video.weibo.com/media/play?livephoto=https%3A%2F%2Fus.sinaimg.cn%2F002NaArDjx08mZTMG2eQ0f0f01004dJ30k01.mov\"},{\"pid\":\"007q0mqYly1hzvbfni7wmj30ws17o4b9\",\"mid\":\"5148755482643341\",\"is_paid\":false,\"timeline_month\":\"\",\"timeline_year\":\"\",\"object_id\":\"1042018:94a5702a583c0f33e98ba5efbf38b97a\",\"type\":\"livephoto\",\"video\":\"https://video.weibo.com/media/play?livephoto=https%3A%2F%2Fus.sinaimg.cn%2F001rBHntjx08mZTN6CnB0f0f0100bxlq0k01.mov\"},{\"pid\":\"007q0mqYly1hzvbfiw55mj30ws17otn7\",\"mid\":\"5148755482643341\",\"is_paid\":false,\"timeline_month\":\"\",\"timeline_year\":\"\",\"object_id\":\"1042018:9870b4f1111d3dac89c8be1f206bb74c\",\"type\":\"livephoto\",\"video\":\"https://video.weibo.com/media/play?livephoto=https%3A%2F%2Fus.sinaimg.cn%2F001Apygijx08mZTMvM8U0f0f0100bSeb0k01.mov\"},{\"pid\":\"007q0mqYly1hzvbfki0kpj30ws17odt5\",\"mid\":\"5148755482643341\",\"is_paid\":false,\"timeline_month\":\"\",\"timeline_year\":\"\",\"object_id\":\"1042018:cc5e43dfb7e200982276e9a64d51aad9\",\"type\":\"livephoto\",\"video\":\"https://video.weibo.com/media/play?livephoto=https%3A%2F%2Fus.sinaimg.cn%2F000z6OX0jx08mZTMkNiM0f0f0100bruR0k01.mov\"},{\"pid\":\"007q0mqYly1hzvbfpovxmj30ws17o4bw\",\"mid\":\"5148755482643341\",\"is_paid\":false,\"timeline_month\":\"\",\"timeline_year\":\"\",\"object_id\":\"1042018:8ec3e071261af7501056f76248348fe8\",\"type\":\"livephoto\",\"video\":\"https://video.weibo.com/media/play?livephoto=https%3A%2F%2Fus.sinaimg.cn%2F002plycOjx08mZTNpXmn0f0f0100ch9r0k01.mov\"},{\"pid\":\"007q0mqYly1hzvath3egyj32bc3gy4qs\",\"mid\":\"5148749752174242\",\"is_paid\":false,\"timeline_month\":\"\",\"timeline_year\":\"\",\"object_id\":\"1042018:379a3cbfb3c22e916a0816cdbdfa66ab\",\"type\":\"pic\"},{\"pid\":\"007q0mqYly1hzvatj5c4gj33gy2bc7wj\",\"mid\":\"5148749752174242\",\"is_paid\":false,\"timeline_month\":\"\",\"timeline_year\":\"\",\"object_id\":\"1042018:f8b30dfaa2e297de48c21726d55c94c8\",\"type\":\"pic\"},{\"pid\":\"007q0mqYly1hzvatl5ylbj32bc3gyx6r\",\"mid\":\"5148749752174242\",\"is_paid\":false,\"timeline_month\":\"\",\"timeline_year\":\"\",\"object_id\":\"1042018:d2791d6990f3a0f25a09e2352143c870\",\"type\":\"pic\"},{\"pid\":\"007q0mqYly1hzvatnwqbsj32bc3h0b2c\",\"mid\":\"5148749752174242\",\"is_paid\":false,\"timeline_month\":\"\",\"timeline_year\":\"\",\"object_id\":\"1042018:8e38b029957b100a6f160e36250f8cb2\",\"type\":\"pic\"},{\"pid\":\"007q0mqYly1hzvatrq1vgj32bc3gyhdv\",\"mid\":\"5148749752174242\",\"is_paid\":false,\"timeline_month\":\"\",\"timeline_year\":\"\",\"object_id\":\"1042018:4dd76ff1b187eb1d1344c45acb07f898\",\"type\":\"pic\"},{\"pid\":\"007q0mqYly1hzvatup3k9j32bc3gy4qs\",\"mid\":\"5148749752174242\",\"is_paid\":false,\"timeline_month\":\"\",\"timeline_year\":\"\",\"object_id\":\"1042018:72ddbd5e97126399d6c8e220beda15be\",\"type\":\"pic\"}]},\"bottom_tips_visible\":false,\"bottom_tips_text\":\"\",\"ok\":1}'",
   "id": "f6fc44ef42f22756",
   "outputs": [],
   "execution_count": 53
  },
  {
   "metadata": {
    "ExecuteTime": {
     "end_time": "2025-04-06T01:56:05.382783Z",
     "start_time": "2025-04-06T01:56:05.351198Z"
    }
   },
   "cell_type": "code",
   "source": [
    "json_data = json.loads(a)\n",
    "print(json_data)"
   ],
   "id": "ef2651415cfc1ec",
   "outputs": [
    {
     "name": "stdout",
     "output_type": "stream",
     "text": [
      "{'data': {'since_id': '5148749763575862_5148511554503599|1034:5148511189270575_20250327_-1', 'list': [{'pid': '007q0mqYly1hzvnhnri1ij30u01hc4qp', 'mid': '5148859917143876', 'is_paid': False, 'timeline_month': '', 'timeline_year': '', 'object_id': '1042018:6f30f747c2fc3c8162f6c75e9b3e20ff', 'type': 'pic'}, {'pid': '007q0mqYly1hzvm87jb1uj32mo1r4b2b', 'mid': '5148850193433151', 'is_paid': False, 'timeline_month': '', 'timeline_year': '', 'object_id': '1042018:f16b88782fa38b03989510fb5737d125', 'type': 'pic'}, {'pid': '007q0mqYly1hzvm8aeahdj34802tcb2h', 'mid': '5148850193433151', 'is_paid': False, 'timeline_month': '', 'timeline_year': '', 'object_id': '1042018:19bc86f48baa942b86f35a145971c05e', 'type': 'pic'}, {'pid': '007q0mqYly1hzvm90gthwj34802dcu0y', 'mid': '5148850193433151', 'is_paid': False, 'timeline_month': '', 'timeline_year': '', 'object_id': '1042018:6562da69028c5f450cdefc195c335718', 'type': 'pic'}, {'pid': '007q0mqYly1hzvm8dfjsfj34802dc1l4', 'mid': '5148850193433151', 'is_paid': False, 'timeline_month': '', 'timeline_year': '', 'object_id': '1042018:1f31ecccd20c27ea6a3c62da58ee3e29', 'type': 'pic'}, {'pid': '007q0mqYly1hzvm8q9rn2j34802dche2', 'mid': '5148850193433151', 'is_paid': False, 'timeline_month': '', 'timeline_year': '', 'object_id': '1042018:c76b8c8a0c8554e9109a24679b94b260', 'type': 'pic'}, {'pid': '007q0mqYly1hzvm85qzw0j34802dc1l4', 'mid': '5148850193433151', 'is_paid': False, 'timeline_month': '', 'timeline_year': '', 'object_id': '1042018:a08a2f9aa0e38e5ec5ef9737c3506362', 'type': 'pic'}, {'pid': '007q0mqYly1hzvm8ylienj32tc4804qq', 'mid': '5148850193433151', 'is_paid': False, 'timeline_month': '', 'timeline_year': '', 'object_id': '1042018:cb2d64da675709620829116c49a10308', 'type': 'pic'}, {'pid': '007q0mqYly1hzvm8woqyej32tc480e8a', 'mid': '5148850193433151', 'is_paid': False, 'timeline_month': '', 'timeline_year': '', 'object_id': '1042018:a51971b91aaa92ef69288af7e02c189e', 'type': 'pic'}, {'pid': '007q0mqYly1hzvm8h1200j32tc480qvd', 'mid': '5148850193433151', 'is_paid': False, 'timeline_month': '', 'timeline_year': '', 'object_id': '1042018:5d27a096c15b9e8770352af4420a8f8a', 'type': 'pic'}, {'pid': '007q0mqYly1hzvewwhyh4j30u01hcatg', 'mid': '5148785639165890', 'is_paid': False, 'timeline_month': '', 'timeline_year': '', 'object_id': '1042018:e5c4ec6042486893979fe8e31ebd6f2d', 'type': 'pic'}, {'pid': '007q0mqYly1hzvbflw97xj30ws17ogwu', 'mid': '5148755482643341', 'is_paid': False, 'timeline_month': '', 'timeline_year': '', 'object_id': '1042018:adc791eed7bdff1708b9d1b3330ee19f', 'type': 'livephoto', 'video': 'https://video.weibo.com/media/play?livephoto=https%3A%2F%2Fus.sinaimg.cn%2F003eJe9Njx08mZTMRwbB0f0f0100887v0k01.mov'}, {'pid': '007q0mqYly1hzvbfkwg10j30ws17ok4g', 'mid': '5148755482643341', 'is_paid': False, 'timeline_month': '', 'timeline_year': '', 'object_id': '1042018:f2d9b00e899174b77972388901a9adfb', 'type': 'livephoto', 'video': 'https://video.weibo.com/media/play?livephoto=https%3A%2F%2Fus.sinaimg.cn%2F002NaArDjx08mZTMG2eQ0f0f01004dJ30k01.mov'}, {'pid': '007q0mqYly1hzvbfni7wmj30ws17o4b9', 'mid': '5148755482643341', 'is_paid': False, 'timeline_month': '', 'timeline_year': '', 'object_id': '1042018:94a5702a583c0f33e98ba5efbf38b97a', 'type': 'livephoto', 'video': 'https://video.weibo.com/media/play?livephoto=https%3A%2F%2Fus.sinaimg.cn%2F001rBHntjx08mZTN6CnB0f0f0100bxlq0k01.mov'}, {'pid': '007q0mqYly1hzvbfiw55mj30ws17otn7', 'mid': '5148755482643341', 'is_paid': False, 'timeline_month': '', 'timeline_year': '', 'object_id': '1042018:9870b4f1111d3dac89c8be1f206bb74c', 'type': 'livephoto', 'video': 'https://video.weibo.com/media/play?livephoto=https%3A%2F%2Fus.sinaimg.cn%2F001Apygijx08mZTMvM8U0f0f0100bSeb0k01.mov'}, {'pid': '007q0mqYly1hzvbfki0kpj30ws17odt5', 'mid': '5148755482643341', 'is_paid': False, 'timeline_month': '', 'timeline_year': '', 'object_id': '1042018:cc5e43dfb7e200982276e9a64d51aad9', 'type': 'livephoto', 'video': 'https://video.weibo.com/media/play?livephoto=https%3A%2F%2Fus.sinaimg.cn%2F000z6OX0jx08mZTMkNiM0f0f0100bruR0k01.mov'}, {'pid': '007q0mqYly1hzvbfpovxmj30ws17o4bw', 'mid': '5148755482643341', 'is_paid': False, 'timeline_month': '', 'timeline_year': '', 'object_id': '1042018:8ec3e071261af7501056f76248348fe8', 'type': 'livephoto', 'video': 'https://video.weibo.com/media/play?livephoto=https%3A%2F%2Fus.sinaimg.cn%2F002plycOjx08mZTNpXmn0f0f0100ch9r0k01.mov'}, {'pid': '007q0mqYly1hzvath3egyj32bc3gy4qs', 'mid': '5148749752174242', 'is_paid': False, 'timeline_month': '', 'timeline_year': '', 'object_id': '1042018:379a3cbfb3c22e916a0816cdbdfa66ab', 'type': 'pic'}, {'pid': '007q0mqYly1hzvatj5c4gj33gy2bc7wj', 'mid': '5148749752174242', 'is_paid': False, 'timeline_month': '', 'timeline_year': '', 'object_id': '1042018:f8b30dfaa2e297de48c21726d55c94c8', 'type': 'pic'}, {'pid': '007q0mqYly1hzvatl5ylbj32bc3gyx6r', 'mid': '5148749752174242', 'is_paid': False, 'timeline_month': '', 'timeline_year': '', 'object_id': '1042018:d2791d6990f3a0f25a09e2352143c870', 'type': 'pic'}, {'pid': '007q0mqYly1hzvatnwqbsj32bc3h0b2c', 'mid': '5148749752174242', 'is_paid': False, 'timeline_month': '', 'timeline_year': '', 'object_id': '1042018:8e38b029957b100a6f160e36250f8cb2', 'type': 'pic'}, {'pid': '007q0mqYly1hzvatrq1vgj32bc3gyhdv', 'mid': '5148749752174242', 'is_paid': False, 'timeline_month': '', 'timeline_year': '', 'object_id': '1042018:4dd76ff1b187eb1d1344c45acb07f898', 'type': 'pic'}, {'pid': '007q0mqYly1hzvatup3k9j32bc3gy4qs', 'mid': '5148749752174242', 'is_paid': False, 'timeline_month': '', 'timeline_year': '', 'object_id': '1042018:72ddbd5e97126399d6c8e220beda15be', 'type': 'pic'}]}, 'bottom_tips_visible': False, 'bottom_tips_text': '', 'ok': 1}\n"
     ]
    }
   ],
   "execution_count": 55
  }
 ],
 "metadata": {
  "kernelspec": {
   "display_name": "Python 3",
   "language": "python",
   "name": "python3"
  },
  "language_info": {
   "codemirror_mode": {
    "name": "ipython",
    "version": 2
   },
   "file_extension": ".py",
   "mimetype": "text/x-python",
   "name": "python",
   "nbconvert_exporter": "python",
   "pygments_lexer": "ipython2",
   "version": "2.7.6"
  }
 },
 "nbformat": 4,
 "nbformat_minor": 5
}
